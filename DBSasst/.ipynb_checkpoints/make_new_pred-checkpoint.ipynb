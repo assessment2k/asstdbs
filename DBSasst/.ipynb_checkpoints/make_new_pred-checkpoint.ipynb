{
 "cells": [
  {
   "cell_type": "code",
   "execution_count": 102,
   "id": "40126529",
   "metadata": {},
   "outputs": [
    {
     "name": "stdout",
     "output_type": "stream",
     "text": [
      "{0: 'classic pop and rock', 1: 'dance and electronica', 2: 'folk', 3: 'jazz and blues', 4: 'metal', 5: 'pop', 6: 'punk', 7: 'soul and reggae'}\n"
     ]
    }
   ],
   "source": [
    "import joblib\n",
    "import os\n",
    "import pandas as pd\n",
    "\n",
    "data_dir = '.\\data'\n",
    "\n",
    "datasrc = lambda x: os.path.join(data_dir, x)\n",
    "df_labels = pd.read_csv(datasrc('labels.csv'))\n",
    "\n",
    "clf_r = joblib.load(datasrc(\"random_forest.joblib\"))\n",
    "\n",
    "df_labels.genre = pd.Categorical(df_labels.genre)\n",
    "df_labels['label'] = df_labels.genre.cat.codes\n",
    "labels = dict(enumerate(df_labels.genre.cat.categories))\n",
    "print(labels)"
   ]
  },
  {
   "cell_type": "code",
   "execution_count": 104,
   "id": "d866777d",
   "metadata": {},
   "outputs": [
    {
     "name": "stdout",
     "output_type": "stream",
     "text": [
      "Genre predicted for song You Get What You Give with id 6732 is folk\n"
     ]
    }
   ],
   "source": [
    "# todo make new predictions using the loaded model\n",
    "# trackID\ttitle\ttags\tloudness\ttempo\ttime_signature\tkey\tmode\tduration\tvect_1\tvect_2\tvect_3\tvect_4\tvect_5\tvect_6\tvect_7\tvect_8\tvect_9\tvect_10\tvect_11\tvect_12\tvect_13\tvect_14\tvect_15\tvect_16\tvect_17\tvect_18\tvect_19\tvect_20\tvect_21\tvect_22\tvect_23\tvect_24\tvect_25\tvect_26\tvect_27\tvect_28\tvect_29\tvect_30\tvect_31\tvect_32\tvect_33\tvect_34\tvect_35\tvect_36\tvect_37\tvect_38\tvect_39\tvect_40\tvect_41\tvect_42\tvect_43\tvect_44\tvect_45\tvect_46\tvect_47\tvect_48\tvect_49\tvect_50\tvect_51\tvect_52\tvect_53\tvect_54\tvect_55\tvect_56\tvect_57\tvect_58\tvect_59\tvect_60\tvect_61\tvect_62\tvect_63\tvect_64\tvect_65\tvect_66\tvect_67\tvect_68\tvect_69\tvect_70\tvect_71\tvect_72\tvect_73\tvect_74\tvect_75\tvect_76\tvect_77\tvect_78\tvect_79\tvect_80\tvect_81\tvect_82\tvect_83\tvect_84\tvect_85\tvect_86\tvect_87\tvect_88\tvect_89\tvect_90\tvect_91\tvect_92\tvect_93\tvect_94\tvect_95\tvect_96\tvect_97\tvect_98\tvect_99\tvect_100\tvect_101\tvect_102\tvect_103\tvect_104\tvect_105\tvect_106\tvect_107\tvect_108\tvect_109\tvect_110\tvect_111\tvect_112\tvect_113\tvect_114\tvect_115\tvect_116\tvect_117\tvect_118\tvect_119\tvect_120\tvect_121\tvect_122\tvect_123\tvect_124\tvect_125\tvect_126\tvect_127\tvect_128\tvect_129\tvect_130\tvect_131\tvect_132\tvect_133\tvect_134\tvect_135\tvect_136\tvect_137\tvect_138\tvect_139\tvect_140\tvect_141\tvect_142\tvect_143\tvect_144\tvect_145\tvect_146\tvect_147\tvect_148\n",
    "# 6732\tYou Get What You Give\ti, the, you, to, and, a, me, it, not, in, is, your, do, on, are, we, am, will, all, for, be, have, love, so, this, but, with, what, just, when, now, can, come, go, up, one, they, down, get, got, feel, let, way, say, ca, babi, yeah, heart, night, world, gonna, die, right, who, through, live, give, onli, dream, still, find, fall, around, then, light, everi, leav, home, hold, run, lie, cri, hey, god, friend, left, break, pleas, danc, mine, while, high, real, fli, bad, ooh, behind, big, till, forget, first, music, reason, follow, wake, laugh, whole, apart, pull, tree, kid, afraid, cannot, knee, 2, uh, tight, mile, damn, top, kick, comin, buy, 1, four, ass, broke, shoot, age, okay, style, 3, busi, crash, fake, rich, bend, ran, diseas, miracl, harm, smash, fashion, polit, flat, dreamer, trial, ow, health, comput, dine, clone\t-5.672\t113.941\t4\t2\t1\t300.82567\t49.70749896\t38.76496266\t33.62461929\t-0.503470954\t13.28048444\t-15.04915871\t-3.742210581\t-4.964120332\t6.766342324\t-2.52360166\t-1.342425311\t0.627145228\t36.58612378\t835.9675392\t675.5822022\t459.5133679\t483.3542338\t385.4806684\t433.9052526\t269.8113852\t269.5229663\t196.0878017\t134.0767282\t217.2648528\t0.150451\t0.105133\t0.26942\t0.086505\t-41.253402\t3.230174\t0.297773\t0.939464\t-0.145089\t0.144022\t-0.006143\t0.352615\t0.177239\t0.138769\t0.121936\t-0.134332\t0.252455\t0.00147\t0.001356\t0.001413\t0.001442\t0.001551\t0.001718\t0.001907\t0.002046\t0.001706\t0.001456\t0.001339\t0.001395\t1.695063\t3.168151\t0.054058\t0.047249\t0.135706\t0.029454\t1.683797\t0.894134\t0.683767\t0.675064\t0.653038\t0.461477\t0.501496\t0.419658\t0.423481\t0.412545\t0.421902\t0.396009\t0.414365\t0.000993\t0.000937\t0.000994\t0.00107\t0.001113\t0.001236\t0.001328\t0.001427\t0.001305\t0.001127\t0.00104\t0.001007\t0.439669\t1.730067\t0.03962\t0.034776\t0.090618\t0.044021\t3.984556\t0.765858\t0.540733\t0.551566\t0.415935\t0.317892\t0.383365\t0.260901\t0.294111\t0.25454\t0.320333\t0.294354\t0.304675\t0.000405\t0.000416\t0.000441\t0.00036\t0.000416\t0.000494\t0.000565\t0.000725\t0.000478\t0.000395\t0.000366\t0.000369\t0.306461\t1.295887\t0.021382\t0.02254\t0.048542\t0.025833\t1.559438\t0.257029\t0.205634\t0.259174\t0.204383\t0.121126\t0.133214\t0.096231\t0.095395\t0.109911\t0.104719\t0.085561\t0.102839\t0.000445\t0.00045\t0.000496\t0.000565\t0.000628\t0.00066\t0.00066\t0.000667\t0.000615\t0.000582\t0.000534\t0.000476\t0.21001\t1.392651\n",
    "\n",
    "# todo add final feat_list to config file \n",
    "feat_list = ['vect_2', 'vect_3', 'vect_4', 'vect_5', 'vect_6', 'vect_7', 'vect_8', 'vect_9', 'vect_10', 'vect_11', 'vect_12', 'vect_13', 'vect_14', 'vect_15', 'vect_16', 'vect_17', 'vect_18', 'vect_19', 'vect_20', 'vect_21', 'vect_22', 'vect_23', 'vect_24', 'vect_26', 'vect_31', 'vect_32', 'vect_33', 'vect_34', 'vect_35', 'vect_36', 'vect_37', 'vect_38', 'vect_39', 'vect_40', 'vect_41', 'vect_55', 'vect_58', 'vect_60', 'vect_66', 'vect_85', 'vect_87', 'vect_88', 'vect_89', 'vect_91', 'vect_92', 'vect_93', 'vect_94', 'vect_95', 'vect_96', 'vect_97', 'vect_98', 'vect_99', 'vect_100', 'vect_101', 'vect_102', 'vect_103', 'vect_105', 'vect_116', 'vect_117', 'vect_118', 'vect_120', 'vect_122', 'vect_123', 'vect_124', 'vect_125', 'vect_126', 'vect_127', 'vect_128', 'vect_130', 'vect_133', 'vect_134', 'vect_147', 'mode', 'loudness', 'tempo']\n",
    "\n",
    "# open file with data to predict\n",
    "pred_file = pd.read_csv(datasrc('topred.csv'))\n",
    "\n",
    "d = pred_file[feat_list]\n",
    "x = d.values\n",
    "\n",
    "\n",
    "def predict_genre(model, data_to_predict):\n",
    "\n",
    "    y_pred = model.predict(data_to_predict)\n",
    "#     if y_pred[0] in labels:\n",
    "#         print(labels[y_pred[0]])\n",
    "    return labels[y_pred[0]]\n",
    "\n",
    "song_name = pred_file['title'].values[0]\n",
    "song_id = pred_file['trackID'].values[0]\n",
    "print(f'Genre predicted for song {song_name} with id {song_id} is {predict_genre(clf_r, x)}')"
   ]
  },
  {
   "cell_type": "code",
   "execution_count": null,
   "id": "b1696125",
   "metadata": {},
   "outputs": [],
   "source": []
  },
  {
   "cell_type": "code",
   "execution_count": null,
   "id": "1fc291c2",
   "metadata": {},
   "outputs": [],
   "source": []
  }
 ],
 "metadata": {
  "kernelspec": {
   "display_name": "Python 3",
   "language": "python",
   "name": "python3"
  },
  "language_info": {
   "codemirror_mode": {
    "name": "ipython",
    "version": 3
   },
   "file_extension": ".py",
   "mimetype": "text/x-python",
   "name": "python",
   "nbconvert_exporter": "python",
   "pygments_lexer": "ipython3",
   "version": "3.6.8"
  }
 },
 "nbformat": 4,
 "nbformat_minor": 5
}
