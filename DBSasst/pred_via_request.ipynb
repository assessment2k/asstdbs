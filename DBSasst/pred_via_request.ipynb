{
 "cells": [
  {
   "cell_type": "code",
   "execution_count": 42,
   "id": "cc4e0048",
   "metadata": {},
   "outputs": [
    {
     "name": "stdout",
     "output_type": "stream",
     "text": [
      "Genre predicted for song You Get What You Give with id 6732 is dance and electronica\n"
     ]
    }
   ],
   "source": [
    "import requests, os\n",
    "import pandas as pd\n",
    "feat_list = ['vect_2', 'vect_3', 'vect_4', 'vect_5', 'vect_6', 'vect_7', 'vect_8', 'vect_9', 'vect_10', 'vect_11', 'vect_12', 'vect_13', 'vect_14', 'vect_15', 'vect_16', 'vect_17', 'vect_18', 'vect_19', 'vect_20', 'vect_21', 'vect_22', 'vect_23', 'vect_24', 'vect_26', 'vect_31', 'vect_32', 'vect_33', 'vect_34', 'vect_35', 'vect_36', 'vect_37', 'vect_38', 'vect_39', 'vect_40', 'vect_41', 'vect_55', 'vect_58', 'vect_60', 'vect_66', 'vect_85', 'vect_87', 'vect_88', 'vect_89', 'vect_91', 'vect_92', 'vect_93', 'vect_94', 'vect_95', 'vect_96', 'vect_97', 'vect_98', 'vect_99', 'vect_100', 'vect_101', 'vect_102', 'vect_103', 'vect_105', 'vect_116', 'vect_117', 'vect_118', 'vect_120', 'vect_122', 'vect_123', 'vect_124', 'vect_125', 'vect_126', 'vect_127', 'vect_128', 'vect_130', 'vect_133', 'vect_134', 'vect_147', 'mode', 'loudness', 'tempo']\n",
    "\n",
    "data_dir = '.\\data'\n",
    "datasrc = lambda x: os.path.join(data_dir, x)\n",
    "\n",
    "\n",
    "song_name = pred_file['title'].values[0]\n",
    "song_id = pred_file['trackID'].values[0]\n",
    "# print(f'Genre predicted for song {song_name} with id {song_id} is {predict_genre(clf_r, x)}')\n",
    "\n",
    "pred_file = pd.read_csv(datasrc('topred.csv'))\n",
    "\n",
    "d = pred_file[feat_list]\n",
    "x = d.values\n",
    "\n",
    "\n",
    "url = 'http://localhost:9696/predict'\n",
    "r = requests.post(url, json = x.tolist())\n",
    "\n",
    "# print((r.text))\n",
    "\n",
    "print(f'Genre predicted for song {song_name} with id {song_id} is {r.text}')\n"
   ]
  },
  {
   "cell_type": "code",
   "execution_count": null,
   "id": "c461288b",
   "metadata": {},
   "outputs": [],
   "source": []
  },
  {
   "cell_type": "code",
   "execution_count": null,
   "id": "960c7c16",
   "metadata": {},
   "outputs": [],
   "source": []
  }
 ],
 "metadata": {
  "kernelspec": {
   "display_name": "Python 3",
   "language": "python",
   "name": "python3"
  },
  "language_info": {
   "codemirror_mode": {
    "name": "ipython",
    "version": 3
   },
   "file_extension": ".py",
   "mimetype": "text/x-python",
   "name": "python",
   "nbconvert_exporter": "python",
   "pygments_lexer": "ipython3",
   "version": "3.6.8"
  }
 },
 "nbformat": 4,
 "nbformat_minor": 5
}
